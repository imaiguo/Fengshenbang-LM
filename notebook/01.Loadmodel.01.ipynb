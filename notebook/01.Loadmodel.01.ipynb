{
 "cells": [
  {
   "cell_type": "code",
   "execution_count": 1,
   "id": "f941500f-6e21-493b-9637-299bcfdf3142",
   "metadata": {},
   "outputs": [
    {
     "data": {
      "application/vnd.jupyter.widget-view+json": {
       "model_id": "41eb9611cfa646ac93a618bd98f03bee",
       "version_major": 2,
       "version_minor": 0
      },
      "text/plain": [
       "Loading checkpoint shards:   0%|          | 0/3 [00:00<?, ?it/s]"
      ]
     },
     "metadata": {},
     "output_type": "display_data"
    },
    {
     "name": "stderr",
     "output_type": "stream",
     "text": [
      "You are using the legacy behaviour of the <class 'transformers.models.llama.tokenization_llama.LlamaTokenizer'>. This means that tokens that come after special tokens will not be properly handled. We recommend you to read the related pull request available at https://github.com/huggingface/transformers/pull/24565\n"
     ]
    }
   ],
   "source": [
    "from transformers import AutoTokenizer\n",
    "from transformers import LlamaForCausalLM\n",
    "import torch\n",
    "\n",
    "device = torch.device(\"cuda\")\n",
    "ckpt = '/opt/Data/ModelWeight/IDEA-CCNL/Ziya-LLaMA-13B'\n",
    "\n",
    "model = LlamaForCausalLM.from_pretrained(ckpt, torch_dtype=torch.float16, device_map=\"cuda:0\", load_in_8bit=True)\n",
    "# model = LlamaForCausalLM.from_pretrained(ckpt, torch_dtype=torch.float16, device_map=\"cuda:0\")\n",
    "tokenizer = AutoTokenizer.from_pretrained(ckpt, use_fast=False)"
   ]
  },
  {
   "cell_type": "code",
   "execution_count": 2,
   "id": "8569056d-0747-42b8-bcb8-825879b34577",
   "metadata": {},
   "outputs": [
    {
     "name": "stdout",
     "output_type": "stream",
     "text": [
      "<s> <human> :帮我写一份去西安的旅游计划 <bot>  : 当然，我可以帮你写一份西安旅游计划。请问你需要多长时间的旅游计划？</s>\n"
     ]
    }
   ],
   "source": [
    "query=\"帮我写一份去西安的旅游计划\"\n",
    "inputs = '<human>:' + query.strip() + '\\n<bot>:'\n",
    "      \n",
    "input_ids = tokenizer(inputs, return_tensors=\"pt\").input_ids.to(device)\n",
    "generate_ids = model.generate(\n",
    "            input_ids,\n",
    "            max_new_tokens=1024, \n",
    "            do_sample = True, \n",
    "            top_p = 0.85, \n",
    "            temperature = 1.0, \n",
    "            repetition_penalty=1., \n",
    "            eos_token_id=2, \n",
    "            bos_token_id=1, \n",
    "            pad_token_id=0)\n",
    "output = tokenizer.batch_decode(generate_ids)[0]\n",
    "print(output)"
   ]
  },
  {
   "cell_type": "code",
   "execution_count": 4,
   "id": "3f02c72b-f055-4273-8a3c-8922dba2e00c",
   "metadata": {},
   "outputs": [
    {
     "name": "stdout",
     "output_type": "stream",
     "text": [
      "<s> <human> :你好，帮我介绍一下南京市，详细内容字数100 <bot>  : 南京市是中国江苏省的省会，位于长江下游，是一个具有悠久历史和丰富文化的城市。南京市拥有丰富的人文遗产，包括中山陵、明孝陵、总统府等著名景点。此外，南京市还以美食闻名，著名的美食包括南京盐水鸭、鸭血粉丝汤等。南京市的气候温和，四季分明，是一个适宜居住和旅游的城市。</s>\n"
     ]
    }
   ],
   "source": [
    "query=\"你好，帮我介绍一下南京市，详细内容字数100\"\n",
    "inputs = '<human>:' + query.strip() + '\\n<bot>:'\n",
    "      \n",
    "input_ids = tokenizer(inputs, return_tensors=\"pt\").input_ids.to(device)\n",
    "generate_ids = model.generate(\n",
    "            input_ids,\n",
    "            max_new_tokens=1024, \n",
    "            do_sample = True, \n",
    "            top_p = 0.85, \n",
    "            temperature = 1.0, \n",
    "            repetition_penalty=1., \n",
    "            eos_token_id=2, \n",
    "            bos_token_id=1, \n",
    "            pad_token_id=0)\n",
    "output = tokenizer.batch_decode(generate_ids)[0]\n",
    "print(output)"
   ]
  }
 ],
 "metadata": {
  "kernelspec": {
   "display_name": "Python 3 (ipykernel)",
   "language": "python",
   "name": "python3"
  },
  "language_info": {
   "codemirror_mode": {
    "name": "ipython",
    "version": 3
   },
   "file_extension": ".py",
   "mimetype": "text/x-python",
   "name": "python",
   "nbconvert_exporter": "python",
   "pygments_lexer": "ipython3",
   "version": "3.11.2"
  }
 },
 "nbformat": 4,
 "nbformat_minor": 5
}
