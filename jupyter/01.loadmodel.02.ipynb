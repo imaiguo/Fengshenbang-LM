{
 "cells": [
  {
   "cell_type": "code",
   "execution_count": 1,
   "id": "665b29b6-9419-41ac-9d17-b7d8acc46105",
   "metadata": {},
   "outputs": [
    {
     "name": "stdout",
     "output_type": "stream",
     "text": [
      "Running on GPU with backend torch transformers.\n"
     ]
    },
    {
     "name": "stderr",
     "output_type": "stream",
     "text": [
      "You are using the legacy behaviour of the <class 'transformers.models.llama.tokenization_llama.LlamaTokenizer'>. This means that tokens that come after special tokens will not be properly handled. We recommend you to read the related pull request available at https://github.com/huggingface/transformers/pull/24565\n"
     ]
    },
    {
     "data": {
      "application/vnd.jupyter.widget-view+json": {
       "model_id": "6772d660e53c46e1bdb1525d8b4e25eb",
       "version_major": 2,
       "version_minor": 0
      },
      "text/plain": [
       "Loading checkpoint shards:   0%|          | 0/3 [00:00<?, ?it/s]"
      ]
     },
     "metadata": {},
     "output_type": "display_data"
    }
   ],
   "source": [
    "from llama2_wrapper import LLAMA2_WRAPPER, get_prompt, get_prompt_for_dialog\n",
    "\n",
    "MODELPATH = \"/opt/Data/ModelWeight/IDEA-CCNL/Ziya-LLaMA-13B\"\n",
    "\n",
    "llm = LLAMA2_WRAPPER(\n",
    "\tmodel_path = MODELPATH,\n",
    "    backend_type = \"transformers\",\n",
    "    load_in_8bit = True\n",
    ")"
   ]
  },
  {
   "cell_type": "code",
   "execution_count": 3,
   "id": "4c6be01c-4159-4b88-8b2e-5e116da55357",
   "metadata": {},
   "outputs": [
    {
     "name": "stdout",
     "output_type": "stream",
     "text": [
      "\n"
     ]
    }
   ],
   "source": [
    "prompt = \"I feel good.\"\n",
    "answer = llm(get_prompt(prompt), temperature=0.9)\n",
    "print(answer)"
   ]
  }
 ],
 "metadata": {
  "kernelspec": {
   "display_name": "Python 3 (ipykernel)",
   "language": "python",
   "name": "python3"
  },
  "language_info": {
   "codemirror_mode": {
    "name": "ipython",
    "version": 3
   },
   "file_extension": ".py",
   "mimetype": "text/x-python",
   "name": "python",
   "nbconvert_exporter": "python",
   "pygments_lexer": "ipython3",
   "version": "3.11.2"
  }
 },
 "nbformat": 4,
 "nbformat_minor": 5
}
